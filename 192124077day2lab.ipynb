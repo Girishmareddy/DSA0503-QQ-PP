{
  "nbformat": 4,
  "nbformat_minor": 0,
  "metadata": {
    "colab": {
      "provenance": []
    },
    "kernelspec": {
      "name": "python3",
      "display_name": "Python 3"
    },
    "language_info": {
      "name": "python"
    }
  },
  "cells": [
    {
      "cell_type": "markdown",
      "source": [
        "#**Create a dataframe of ten rows, four columns with random values. Write a Pandas program to highlight the negative numbers red and positive numbers black.**"
      ],
      "metadata": {
        "id": "OJK1OFMk7M37"
      }
    },
    {
      "cell_type": "code",
      "execution_count": 3,
      "metadata": {
        "colab": {
          "base_uri": "https://localhost:8080/",
          "height": 363
        },
        "id": "iJmaqh5QibRa",
        "outputId": "5a44fc2f-99c8-47f6-d36d-61a86185a04e"
      },
      "outputs": [
        {
          "output_type": "execute_result",
          "data": {
            "text/plain": [
              "<pandas.io.formats.style.Styler at 0x7f534bbb39a0>"
            ],
            "text/html": [
              "<style type=\"text/css\">\n",
              "#T_d1453_row0_col0, #T_d1453_row0_col1, #T_d1453_row0_col2, #T_d1453_row0_col3, #T_d1453_row1_col0, #T_d1453_row1_col2, #T_d1453_row2_col1, #T_d1453_row2_col2, #T_d1453_row2_col3, #T_d1453_row3_col0, #T_d1453_row3_col1, #T_d1453_row3_col2, #T_d1453_row3_col3, #T_d1453_row4_col0, #T_d1453_row4_col2, #T_d1453_row5_col1, #T_d1453_row5_col2, #T_d1453_row6_col0, #T_d1453_row6_col2, #T_d1453_row7_col0, #T_d1453_row7_col1, #T_d1453_row7_col2, #T_d1453_row7_col3, #T_d1453_row8_col3, #T_d1453_row9_col0, #T_d1453_row9_col1 {\n",
              "  color: black;\n",
              "}\n",
              "#T_d1453_row1_col1, #T_d1453_row1_col3, #T_d1453_row2_col0, #T_d1453_row4_col1, #T_d1453_row4_col3, #T_d1453_row5_col0, #T_d1453_row5_col3, #T_d1453_row6_col1, #T_d1453_row6_col3, #T_d1453_row8_col0, #T_d1453_row8_col1, #T_d1453_row8_col2, #T_d1453_row9_col2, #T_d1453_row9_col3 {\n",
              "  color: red;\n",
              "}\n",
              "</style>\n",
              "<table id=\"T_d1453\" class=\"dataframe\">\n",
              "  <thead>\n",
              "    <tr>\n",
              "      <th class=\"blank level0\" >&nbsp;</th>\n",
              "      <th id=\"T_d1453_level0_col0\" class=\"col_heading level0 col0\" >A</th>\n",
              "      <th id=\"T_d1453_level0_col1\" class=\"col_heading level0 col1\" >B</th>\n",
              "      <th id=\"T_d1453_level0_col2\" class=\"col_heading level0 col2\" >C</th>\n",
              "      <th id=\"T_d1453_level0_col3\" class=\"col_heading level0 col3\" >D</th>\n",
              "    </tr>\n",
              "  </thead>\n",
              "  <tbody>\n",
              "    <tr>\n",
              "      <th id=\"T_d1453_level0_row0\" class=\"row_heading level0 row0\" >0</th>\n",
              "      <td id=\"T_d1453_row0_col0\" class=\"data row0 col0\" >1.764052</td>\n",
              "      <td id=\"T_d1453_row0_col1\" class=\"data row0 col1\" >0.400157</td>\n",
              "      <td id=\"T_d1453_row0_col2\" class=\"data row0 col2\" >0.978738</td>\n",
              "      <td id=\"T_d1453_row0_col3\" class=\"data row0 col3\" >2.240893</td>\n",
              "    </tr>\n",
              "    <tr>\n",
              "      <th id=\"T_d1453_level0_row1\" class=\"row_heading level0 row1\" >1</th>\n",
              "      <td id=\"T_d1453_row1_col0\" class=\"data row1 col0\" >1.867558</td>\n",
              "      <td id=\"T_d1453_row1_col1\" class=\"data row1 col1\" >-0.977278</td>\n",
              "      <td id=\"T_d1453_row1_col2\" class=\"data row1 col2\" >0.950088</td>\n",
              "      <td id=\"T_d1453_row1_col3\" class=\"data row1 col3\" >-0.151357</td>\n",
              "    </tr>\n",
              "    <tr>\n",
              "      <th id=\"T_d1453_level0_row2\" class=\"row_heading level0 row2\" >2</th>\n",
              "      <td id=\"T_d1453_row2_col0\" class=\"data row2 col0\" >-0.103219</td>\n",
              "      <td id=\"T_d1453_row2_col1\" class=\"data row2 col1\" >0.410599</td>\n",
              "      <td id=\"T_d1453_row2_col2\" class=\"data row2 col2\" >0.144044</td>\n",
              "      <td id=\"T_d1453_row2_col3\" class=\"data row2 col3\" >1.454274</td>\n",
              "    </tr>\n",
              "    <tr>\n",
              "      <th id=\"T_d1453_level0_row3\" class=\"row_heading level0 row3\" >3</th>\n",
              "      <td id=\"T_d1453_row3_col0\" class=\"data row3 col0\" >0.761038</td>\n",
              "      <td id=\"T_d1453_row3_col1\" class=\"data row3 col1\" >0.121675</td>\n",
              "      <td id=\"T_d1453_row3_col2\" class=\"data row3 col2\" >0.443863</td>\n",
              "      <td id=\"T_d1453_row3_col3\" class=\"data row3 col3\" >0.333674</td>\n",
              "    </tr>\n",
              "    <tr>\n",
              "      <th id=\"T_d1453_level0_row4\" class=\"row_heading level0 row4\" >4</th>\n",
              "      <td id=\"T_d1453_row4_col0\" class=\"data row4 col0\" >1.494079</td>\n",
              "      <td id=\"T_d1453_row4_col1\" class=\"data row4 col1\" >-0.205158</td>\n",
              "      <td id=\"T_d1453_row4_col2\" class=\"data row4 col2\" >0.313068</td>\n",
              "      <td id=\"T_d1453_row4_col3\" class=\"data row4 col3\" >-0.854096</td>\n",
              "    </tr>\n",
              "    <tr>\n",
              "      <th id=\"T_d1453_level0_row5\" class=\"row_heading level0 row5\" >5</th>\n",
              "      <td id=\"T_d1453_row5_col0\" class=\"data row5 col0\" >-2.552990</td>\n",
              "      <td id=\"T_d1453_row5_col1\" class=\"data row5 col1\" >0.653619</td>\n",
              "      <td id=\"T_d1453_row5_col2\" class=\"data row5 col2\" >0.864436</td>\n",
              "      <td id=\"T_d1453_row5_col3\" class=\"data row5 col3\" >-0.742165</td>\n",
              "    </tr>\n",
              "    <tr>\n",
              "      <th id=\"T_d1453_level0_row6\" class=\"row_heading level0 row6\" >6</th>\n",
              "      <td id=\"T_d1453_row6_col0\" class=\"data row6 col0\" >2.269755</td>\n",
              "      <td id=\"T_d1453_row6_col1\" class=\"data row6 col1\" >-1.454366</td>\n",
              "      <td id=\"T_d1453_row6_col2\" class=\"data row6 col2\" >0.045759</td>\n",
              "      <td id=\"T_d1453_row6_col3\" class=\"data row6 col3\" >-0.187184</td>\n",
              "    </tr>\n",
              "    <tr>\n",
              "      <th id=\"T_d1453_level0_row7\" class=\"row_heading level0 row7\" >7</th>\n",
              "      <td id=\"T_d1453_row7_col0\" class=\"data row7 col0\" >1.532779</td>\n",
              "      <td id=\"T_d1453_row7_col1\" class=\"data row7 col1\" >1.469359</td>\n",
              "      <td id=\"T_d1453_row7_col2\" class=\"data row7 col2\" >0.154947</td>\n",
              "      <td id=\"T_d1453_row7_col3\" class=\"data row7 col3\" >0.378163</td>\n",
              "    </tr>\n",
              "    <tr>\n",
              "      <th id=\"T_d1453_level0_row8\" class=\"row_heading level0 row8\" >8</th>\n",
              "      <td id=\"T_d1453_row8_col0\" class=\"data row8 col0\" >-0.887786</td>\n",
              "      <td id=\"T_d1453_row8_col1\" class=\"data row8 col1\" >-1.980796</td>\n",
              "      <td id=\"T_d1453_row8_col2\" class=\"data row8 col2\" >-0.347912</td>\n",
              "      <td id=\"T_d1453_row8_col3\" class=\"data row8 col3\" >0.156349</td>\n",
              "    </tr>\n",
              "    <tr>\n",
              "      <th id=\"T_d1453_level0_row9\" class=\"row_heading level0 row9\" >9</th>\n",
              "      <td id=\"T_d1453_row9_col0\" class=\"data row9 col0\" >1.230291</td>\n",
              "      <td id=\"T_d1453_row9_col1\" class=\"data row9 col1\" >1.202380</td>\n",
              "      <td id=\"T_d1453_row9_col2\" class=\"data row9 col2\" >-0.387327</td>\n",
              "      <td id=\"T_d1453_row9_col3\" class=\"data row9 col3\" >-0.302303</td>\n",
              "    </tr>\n",
              "  </tbody>\n",
              "</table>\n"
            ]
          },
          "metadata": {},
          "execution_count": 3
        }
      ],
      "source": [
        "import pandas as pd\n",
        "import numpy as np\n",
        "np.random.seed(0)\n",
        "data = np.random.randn(10, 4)\n",
        "df = pd.DataFrame(data, columns=['A', 'B', 'C', 'D'])\n",
        "def highlight_cells(val):\n",
        "    color = 'red' if val < 0 else 'black'\n",
        "    return f'color: {color}'\n",
        "styled_df = df.style.applymap(highlight_cells)\n",
        "styled_df"
      ]
    },
    {
      "cell_type": "markdown",
      "source": [
        "#**Create a dataframe of ten rows, four columns with random values. Convert some values to nan values. Write a Pandas program which will highlight the nan values.**"
      ],
      "metadata": {
        "id": "hhM9V4cT6NP5"
      }
    },
    {
      "cell_type": "code",
      "source": [
        "from google.colab import drive\n",
        "drive.mount('/content/drive')"
      ],
      "metadata": {
        "colab": {
          "base_uri": "https://localhost:8080/"
        },
        "id": "40zYiJ46kMNp",
        "outputId": "cceb9eb6-a128-4270-8f74-1fe96e5af238"
      },
      "execution_count": 10,
      "outputs": [
        {
          "output_type": "stream",
          "name": "stdout",
          "text": [
            "Drive already mounted at /content/drive; to attempt to forcibly remount, call drive.mount(\"/content/drive\", force_remount=True).\n"
          ]
        }
      ]
    },
    {
      "cell_type": "code",
      "source": [
        "import pandas as pd\n",
        "import numpy as np\n",
        "data = np.random.rand(10, 4)\n",
        "data[2, 1] = np.nan\n",
        "data[4, 3] = np.nan\n",
        "data[7, 2] = np.nan\n",
        "df = pd.DataFrame(data, columns=['A', 'B', 'C', 'D'])\n",
        "def highlight_nan(value):\n",
        "    if pd.isna(value):\n",
        "        return 'background-color: yellow'\n",
        "    else:\n",
        "        return ''\n",
        "styled_df = df.style.applymap(highlight_nan)\n",
        "styled_df\n"
      ],
      "metadata": {
        "colab": {
          "base_uri": "https://localhost:8080/",
          "height": 363
        },
        "id": "1GKvQe1NnSQj",
        "outputId": "ef9d43f4-a57e-48b2-9a85-42bf9aa676e7"
      },
      "execution_count": 13,
      "outputs": [
        {
          "output_type": "execute_result",
          "data": {
            "text/plain": [
              "<pandas.io.formats.style.Styler at 0x7f532588b700>"
            ],
            "text/html": [
              "<style type=\"text/css\">\n",
              "#T_9bfaf_row2_col1, #T_9bfaf_row4_col3, #T_9bfaf_row7_col2 {\n",
              "  background-color: yellow;\n",
              "}\n",
              "</style>\n",
              "<table id=\"T_9bfaf\" class=\"dataframe\">\n",
              "  <thead>\n",
              "    <tr>\n",
              "      <th class=\"blank level0\" >&nbsp;</th>\n",
              "      <th id=\"T_9bfaf_level0_col0\" class=\"col_heading level0 col0\" >A</th>\n",
              "      <th id=\"T_9bfaf_level0_col1\" class=\"col_heading level0 col1\" >B</th>\n",
              "      <th id=\"T_9bfaf_level0_col2\" class=\"col_heading level0 col2\" >C</th>\n",
              "      <th id=\"T_9bfaf_level0_col3\" class=\"col_heading level0 col3\" >D</th>\n",
              "    </tr>\n",
              "  </thead>\n",
              "  <tbody>\n",
              "    <tr>\n",
              "      <th id=\"T_9bfaf_level0_row0\" class=\"row_heading level0 row0\" >0</th>\n",
              "      <td id=\"T_9bfaf_row0_col0\" class=\"data row0 col0\" >0.315428</td>\n",
              "      <td id=\"T_9bfaf_row0_col1\" class=\"data row0 col1\" >0.363711</td>\n",
              "      <td id=\"T_9bfaf_row0_col2\" class=\"data row0 col2\" >0.570197</td>\n",
              "      <td id=\"T_9bfaf_row0_col3\" class=\"data row0 col3\" >0.438602</td>\n",
              "    </tr>\n",
              "    <tr>\n",
              "      <th id=\"T_9bfaf_level0_row1\" class=\"row_heading level0 row1\" >1</th>\n",
              "      <td id=\"T_9bfaf_row1_col0\" class=\"data row1 col0\" >0.988374</td>\n",
              "      <td id=\"T_9bfaf_row1_col1\" class=\"data row1 col1\" >0.102045</td>\n",
              "      <td id=\"T_9bfaf_row1_col2\" class=\"data row1 col2\" >0.208877</td>\n",
              "      <td id=\"T_9bfaf_row1_col3\" class=\"data row1 col3\" >0.161310</td>\n",
              "    </tr>\n",
              "    <tr>\n",
              "      <th id=\"T_9bfaf_level0_row2\" class=\"row_heading level0 row2\" >2</th>\n",
              "      <td id=\"T_9bfaf_row2_col0\" class=\"data row2 col0\" >0.653108</td>\n",
              "      <td id=\"T_9bfaf_row2_col1\" class=\"data row2 col1\" >nan</td>\n",
              "      <td id=\"T_9bfaf_row2_col2\" class=\"data row2 col2\" >0.466311</td>\n",
              "      <td id=\"T_9bfaf_row2_col3\" class=\"data row2 col3\" >0.244426</td>\n",
              "    </tr>\n",
              "    <tr>\n",
              "      <th id=\"T_9bfaf_level0_row3\" class=\"row_heading level0 row3\" >3</th>\n",
              "      <td id=\"T_9bfaf_row3_col0\" class=\"data row3 col0\" >0.158970</td>\n",
              "      <td id=\"T_9bfaf_row3_col1\" class=\"data row3 col1\" >0.110375</td>\n",
              "      <td id=\"T_9bfaf_row3_col2\" class=\"data row3 col2\" >0.656330</td>\n",
              "      <td id=\"T_9bfaf_row3_col3\" class=\"data row3 col3\" >0.138183</td>\n",
              "    </tr>\n",
              "    <tr>\n",
              "      <th id=\"T_9bfaf_level0_row4\" class=\"row_heading level0 row4\" >4</th>\n",
              "      <td id=\"T_9bfaf_row4_col0\" class=\"data row4 col0\" >0.196582</td>\n",
              "      <td id=\"T_9bfaf_row4_col1\" class=\"data row4 col1\" >0.368725</td>\n",
              "      <td id=\"T_9bfaf_row4_col2\" class=\"data row4 col2\" >0.820993</td>\n",
              "      <td id=\"T_9bfaf_row4_col3\" class=\"data row4 col3\" >nan</td>\n",
              "    </tr>\n",
              "    <tr>\n",
              "      <th id=\"T_9bfaf_level0_row5\" class=\"row_heading level0 row5\" >5</th>\n",
              "      <td id=\"T_9bfaf_row5_col0\" class=\"data row5 col0\" >0.837945</td>\n",
              "      <td id=\"T_9bfaf_row5_col1\" class=\"data row5 col1\" >0.096098</td>\n",
              "      <td id=\"T_9bfaf_row5_col2\" class=\"data row5 col2\" >0.976459</td>\n",
              "      <td id=\"T_9bfaf_row5_col3\" class=\"data row5 col3\" >0.468651</td>\n",
              "    </tr>\n",
              "    <tr>\n",
              "      <th id=\"T_9bfaf_level0_row6\" class=\"row_heading level0 row6\" >6</th>\n",
              "      <td id=\"T_9bfaf_row6_col0\" class=\"data row6 col0\" >0.976761</td>\n",
              "      <td id=\"T_9bfaf_row6_col1\" class=\"data row6 col1\" >0.604846</td>\n",
              "      <td id=\"T_9bfaf_row6_col2\" class=\"data row6 col2\" >0.739264</td>\n",
              "      <td id=\"T_9bfaf_row6_col3\" class=\"data row6 col3\" >0.039188</td>\n",
              "    </tr>\n",
              "    <tr>\n",
              "      <th id=\"T_9bfaf_level0_row7\" class=\"row_heading level0 row7\" >7</th>\n",
              "      <td id=\"T_9bfaf_row7_col0\" class=\"data row7 col0\" >0.282807</td>\n",
              "      <td id=\"T_9bfaf_row7_col1\" class=\"data row7 col1\" >0.120197</td>\n",
              "      <td id=\"T_9bfaf_row7_col2\" class=\"data row7 col2\" >nan</td>\n",
              "      <td id=\"T_9bfaf_row7_col3\" class=\"data row7 col3\" >0.118728</td>\n",
              "    </tr>\n",
              "    <tr>\n",
              "      <th id=\"T_9bfaf_level0_row8\" class=\"row_heading level0 row8\" >8</th>\n",
              "      <td id=\"T_9bfaf_row8_col0\" class=\"data row8 col0\" >0.317983</td>\n",
              "      <td id=\"T_9bfaf_row8_col1\" class=\"data row8 col1\" >0.414263</td>\n",
              "      <td id=\"T_9bfaf_row8_col2\" class=\"data row8 col2\" >0.064147</td>\n",
              "      <td id=\"T_9bfaf_row8_col3\" class=\"data row8 col3\" >0.692472</td>\n",
              "    </tr>\n",
              "    <tr>\n",
              "      <th id=\"T_9bfaf_level0_row9\" class=\"row_heading level0 row9\" >9</th>\n",
              "      <td id=\"T_9bfaf_row9_col0\" class=\"data row9 col0\" >0.566601</td>\n",
              "      <td id=\"T_9bfaf_row9_col1\" class=\"data row9 col1\" >0.265389</td>\n",
              "      <td id=\"T_9bfaf_row9_col2\" class=\"data row9 col2\" >0.523248</td>\n",
              "      <td id=\"T_9bfaf_row9_col3\" class=\"data row9 col3\" >0.093941</td>\n",
              "    </tr>\n",
              "  </tbody>\n",
              "</table>\n"
            ]
          },
          "metadata": {},
          "execution_count": 13
        }
      ]
    },
    {
      "cell_type": "markdown",
      "source": [
        "#**Create a dataframe of ten rows, four columns with random values. Write a Pandas program to set dataframe background Color black and font color yellow.**"
      ],
      "metadata": {
        "id": "_CUnuK-G8O3z"
      }
    },
    {
      "cell_type": "code",
      "source": [
        "import pandas as pd\n",
        "import numpy as np\n",
        "data = np.random.rand(10, 4)\n",
        "df = pd.DataFrame(data, columns=['A', 'B', 'C', 'D'])\n",
        "def set_colors(val):\n",
        "    return 'background-color: black; color: yellow'\n",
        "styled_df = df.style.applymap(set_colors)\n",
        "styled_df\n"
      ],
      "metadata": {
        "colab": {
          "base_uri": "https://localhost:8080/",
          "height": 363
        },
        "id": "PXV9hHOgnpm-",
        "outputId": "c3e9a668-c7f5-4abd-e33a-8cb2140f3149"
      },
      "execution_count": 14,
      "outputs": [
        {
          "output_type": "execute_result",
          "data": {
            "text/plain": [
              "<pandas.io.formats.style.Styler at 0x7f534bc01360>"
            ],
            "text/html": [
              "<style type=\"text/css\">\n",
              "#T_98178_row0_col0, #T_98178_row0_col1, #T_98178_row0_col2, #T_98178_row0_col3, #T_98178_row1_col0, #T_98178_row1_col1, #T_98178_row1_col2, #T_98178_row1_col3, #T_98178_row2_col0, #T_98178_row2_col1, #T_98178_row2_col2, #T_98178_row2_col3, #T_98178_row3_col0, #T_98178_row3_col1, #T_98178_row3_col2, #T_98178_row3_col3, #T_98178_row4_col0, #T_98178_row4_col1, #T_98178_row4_col2, #T_98178_row4_col3, #T_98178_row5_col0, #T_98178_row5_col1, #T_98178_row5_col2, #T_98178_row5_col3, #T_98178_row6_col0, #T_98178_row6_col1, #T_98178_row6_col2, #T_98178_row6_col3, #T_98178_row7_col0, #T_98178_row7_col1, #T_98178_row7_col2, #T_98178_row7_col3, #T_98178_row8_col0, #T_98178_row8_col1, #T_98178_row8_col2, #T_98178_row8_col3, #T_98178_row9_col0, #T_98178_row9_col1, #T_98178_row9_col2, #T_98178_row9_col3 {\n",
              "  background-color: black;\n",
              "  color: yellow;\n",
              "}\n",
              "</style>\n",
              "<table id=\"T_98178\" class=\"dataframe\">\n",
              "  <thead>\n",
              "    <tr>\n",
              "      <th class=\"blank level0\" >&nbsp;</th>\n",
              "      <th id=\"T_98178_level0_col0\" class=\"col_heading level0 col0\" >A</th>\n",
              "      <th id=\"T_98178_level0_col1\" class=\"col_heading level0 col1\" >B</th>\n",
              "      <th id=\"T_98178_level0_col2\" class=\"col_heading level0 col2\" >C</th>\n",
              "      <th id=\"T_98178_level0_col3\" class=\"col_heading level0 col3\" >D</th>\n",
              "    </tr>\n",
              "  </thead>\n",
              "  <tbody>\n",
              "    <tr>\n",
              "      <th id=\"T_98178_level0_row0\" class=\"row_heading level0 row0\" >0</th>\n",
              "      <td id=\"T_98178_row0_col0\" class=\"data row0 col0\" >0.575946</td>\n",
              "      <td id=\"T_98178_row0_col1\" class=\"data row0 col1\" >0.929296</td>\n",
              "      <td id=\"T_98178_row0_col2\" class=\"data row0 col2\" >0.318569</td>\n",
              "      <td id=\"T_98178_row0_col3\" class=\"data row0 col3\" >0.667410</td>\n",
              "    </tr>\n",
              "    <tr>\n",
              "      <th id=\"T_98178_level0_row1\" class=\"row_heading level0 row1\" >1</th>\n",
              "      <td id=\"T_98178_row1_col0\" class=\"data row1 col0\" >0.131798</td>\n",
              "      <td id=\"T_98178_row1_col1\" class=\"data row1 col1\" >0.716327</td>\n",
              "      <td id=\"T_98178_row1_col2\" class=\"data row1 col2\" >0.289406</td>\n",
              "      <td id=\"T_98178_row1_col3\" class=\"data row1 col3\" >0.183191</td>\n",
              "    </tr>\n",
              "    <tr>\n",
              "      <th id=\"T_98178_level0_row2\" class=\"row_heading level0 row2\" >2</th>\n",
              "      <td id=\"T_98178_row2_col0\" class=\"data row2 col0\" >0.586513</td>\n",
              "      <td id=\"T_98178_row2_col1\" class=\"data row2 col1\" >0.020108</td>\n",
              "      <td id=\"T_98178_row2_col2\" class=\"data row2 col2\" >0.828940</td>\n",
              "      <td id=\"T_98178_row2_col3\" class=\"data row2 col3\" >0.004695</td>\n",
              "    </tr>\n",
              "    <tr>\n",
              "      <th id=\"T_98178_level0_row3\" class=\"row_heading level0 row3\" >3</th>\n",
              "      <td id=\"T_98178_row3_col0\" class=\"data row3 col0\" >0.677817</td>\n",
              "      <td id=\"T_98178_row3_col1\" class=\"data row3 col1\" >0.270008</td>\n",
              "      <td id=\"T_98178_row3_col2\" class=\"data row3 col2\" >0.735194</td>\n",
              "      <td id=\"T_98178_row3_col3\" class=\"data row3 col3\" >0.962189</td>\n",
              "    </tr>\n",
              "    <tr>\n",
              "      <th id=\"T_98178_level0_row4\" class=\"row_heading level0 row4\" >4</th>\n",
              "      <td id=\"T_98178_row4_col0\" class=\"data row4 col0\" >0.248753</td>\n",
              "      <td id=\"T_98178_row4_col1\" class=\"data row4 col1\" >0.576157</td>\n",
              "      <td id=\"T_98178_row4_col2\" class=\"data row4 col2\" >0.592042</td>\n",
              "      <td id=\"T_98178_row4_col3\" class=\"data row4 col3\" >0.572252</td>\n",
              "    </tr>\n",
              "    <tr>\n",
              "      <th id=\"T_98178_level0_row5\" class=\"row_heading level0 row5\" >5</th>\n",
              "      <td id=\"T_98178_row5_col0\" class=\"data row5 col0\" >0.223082</td>\n",
              "      <td id=\"T_98178_row5_col1\" class=\"data row5 col1\" >0.952749</td>\n",
              "      <td id=\"T_98178_row5_col2\" class=\"data row5 col2\" >0.447125</td>\n",
              "      <td id=\"T_98178_row5_col3\" class=\"data row5 col3\" >0.846409</td>\n",
              "    </tr>\n",
              "    <tr>\n",
              "      <th id=\"T_98178_level0_row6\" class=\"row_heading level0 row6\" >6</th>\n",
              "      <td id=\"T_98178_row6_col0\" class=\"data row6 col0\" >0.699479</td>\n",
              "      <td id=\"T_98178_row6_col1\" class=\"data row6 col1\" >0.297437</td>\n",
              "      <td id=\"T_98178_row6_col2\" class=\"data row6 col2\" >0.813798</td>\n",
              "      <td id=\"T_98178_row6_col3\" class=\"data row6 col3\" >0.396506</td>\n",
              "    </tr>\n",
              "    <tr>\n",
              "      <th id=\"T_98178_level0_row7\" class=\"row_heading level0 row7\" >7</th>\n",
              "      <td id=\"T_98178_row7_col0\" class=\"data row7 col0\" >0.881103</td>\n",
              "      <td id=\"T_98178_row7_col1\" class=\"data row7 col1\" >0.581273</td>\n",
              "      <td id=\"T_98178_row7_col2\" class=\"data row7 col2\" >0.881735</td>\n",
              "      <td id=\"T_98178_row7_col3\" class=\"data row7 col3\" >0.692532</td>\n",
              "    </tr>\n",
              "    <tr>\n",
              "      <th id=\"T_98178_level0_row8\" class=\"row_heading level0 row8\" >8</th>\n",
              "      <td id=\"T_98178_row8_col0\" class=\"data row8 col0\" >0.725254</td>\n",
              "      <td id=\"T_98178_row8_col1\" class=\"data row8 col1\" >0.501324</td>\n",
              "      <td id=\"T_98178_row8_col2\" class=\"data row8 col2\" >0.956084</td>\n",
              "      <td id=\"T_98178_row8_col3\" class=\"data row8 col3\" >0.643990</td>\n",
              "    </tr>\n",
              "    <tr>\n",
              "      <th id=\"T_98178_level0_row9\" class=\"row_heading level0 row9\" >9</th>\n",
              "      <td id=\"T_98178_row9_col0\" class=\"data row9 col0\" >0.423855</td>\n",
              "      <td id=\"T_98178_row9_col1\" class=\"data row9 col1\" >0.606393</td>\n",
              "      <td id=\"T_98178_row9_col2\" class=\"data row9 col2\" >0.019193</td>\n",
              "      <td id=\"T_98178_row9_col3\" class=\"data row9 col3\" >0.301575</td>\n",
              "    </tr>\n",
              "  </tbody>\n",
              "</table>\n"
            ]
          },
          "metadata": {},
          "execution_count": 14
        }
      ]
    },
    {
      "cell_type": "markdown",
      "source": [
        "#**Write a Pandas program to detect missing values of a given DataFrame. Display True or False.**"
      ],
      "metadata": {
        "id": "QDpzGCLL8Vsn"
      }
    },
    {
      "cell_type": "code",
      "source": [
        "import pandas as pd\n",
        "data=pd.read_csv('/content/drive/MyDrive/Data-sets-qqpp/customer_id.csv')\n",
        "missing_values=data.isna()\n",
        "print(missing_values)\n"
      ],
      "metadata": {
        "colab": {
          "base_uri": "https://localhost:8080/"
        },
        "id": "tPrspDdUnzA_",
        "outputId": "847f11c0-7765-406e-a945-49e4d1ca6015"
      },
      "execution_count": 17,
      "outputs": [
        {
          "output_type": "stream",
          "name": "stdout",
          "text": [
            "    ord_no  purch_amt  ord_date  customer_id  salesman_id\n",
            "0    False      False     False        False        False\n",
            "1     True      False     False        False        False\n",
            "2    False      False      True        False        False\n",
            "3    False      False     False        False         True\n",
            "4     True      False     False        False        False\n",
            "5    False      False     False        False        False\n",
            "6     True      False     False        False        False\n",
            "7    False      False     False        False         True\n",
            "8    False      False     False        False        False\n",
            "9    False      False     False        False        False\n",
            "10    True      False     False        False        False\n",
            "11   False      False     False        False         True\n"
          ]
        }
      ]
    },
    {
      "cell_type": "markdown",
      "source": [
        "#**Write a Pandas program to find and replace the missing values in a given DataFrame which do not have any valuable information.**"
      ],
      "metadata": {
        "id": "UCzcx4fV8vRi"
      }
    },
    {
      "cell_type": "code",
      "source": [
        "import pandas as pd\n",
        "data=pd.read_csv('/content/drive/MyDrive/Data-sets-qqpp/customer_id.csv')\n",
        "missing_values=data.fillna(0)\n",
        "print(missing_values)\n"
      ],
      "metadata": {
        "colab": {
          "base_uri": "https://localhost:8080/"
        },
        "id": "5IV8TMw9rXzq",
        "outputId": "7bc9fb07-4e24-4eb1-dac6-0e31cbe2abe9"
      },
      "execution_count": 19,
      "outputs": [
        {
          "output_type": "stream",
          "name": "stdout",
          "text": [
            "     ord_no  purch_amt    ord_date  customer_id  salesman_id\n",
            "0   70001.0     150.50  2012-10-05         3002       5002.0\n",
            "1       0.0     270.65  2012-09-10         3001       5003.0\n",
            "2   70002.0      65.26           0         3001       5001.0\n",
            "3   70004.0     110.50  2012-08-17         3003          0.0\n",
            "4       0.0     948.50  2012-09-10         3002       5002.0\n",
            "5   70005.0    2400.60  2012-07-27         3001       5001.0\n",
            "6       0.0    5760.00  2012-09-10         3001       5001.0\n",
            "7   70010.0    1983.43  2012-10-10         3004          0.0\n",
            "8   70003.0    2480.40  2012-10-10         3003       5003.0\n",
            "9   70012.0     250.45  2012-06-27         3002       5002.0\n",
            "10      0.0      75.29  2012-08-17         3001       5003.0\n",
            "11  70013.0    3045.60  2012-04-25         3001          0.0\n"
          ]
        }
      ]
    },
    {
      "cell_type": "markdown",
      "source": [
        "#**Write a Pandas program to keep the rows with at least 2 NaN values in a given DataFrame**"
      ],
      "metadata": {
        "id": "yfY4DPlp9XuA"
      }
    },
    {
      "cell_type": "code",
      "source": [
        "\n",
        "import pandas as pd\n",
        "df = pd.DataFrame({\n",
        "    'ord_no': [None,None,70002.0,None,None,70005.0,None,70010.0,70003.0,70012.0,None,None],\n",
        "    'purch_amt': [None, 270.65, 65.26, None, 948.50, 2400.60,5760, 1983.43, 2480.40, 250.45, 75.29, None],\n",
        "    'ord_date': [None,'2012-09-10',None,None, '2012-09-10', '2012-07-27',  '2012-09-10', '2012-10-10', '2012-10-10', '2012-06-27', '2012-08-17', None],\n",
        "    'customer_id': [None,3001.0, 3001.0, None, 3002.0, 3001.0, 3001.0, 3004.0, 3003.0, 3002.0, 3001.0, None]\n",
        "})\n",
        "nan_values = df.isna().sum(axis=1)\n",
        "df = df[nan_values >= 2]\n",
        "print(df)"
      ],
      "metadata": {
        "id": "6EEGl17q9Q7I",
        "outputId": "befb3426-3b73-48ad-b41f-49df9aa6108a",
        "colab": {
          "base_uri": "https://localhost:8080/"
        }
      },
      "execution_count": 32,
      "outputs": [
        {
          "output_type": "stream",
          "name": "stdout",
          "text": [
            "    ord_no  purch_amt ord_date  customer_id\n",
            "0      NaN        NaN     None          NaN\n",
            "3      NaN        NaN     None          NaN\n",
            "11     NaN        NaN     None          NaN\n"
          ]
        }
      ]
    },
    {
      "cell_type": "markdown",
      "source": [],
      "metadata": {
        "id": "ujf7x5v18t3t"
      }
    },
    {
      "cell_type": "markdown",
      "source": [
        "#**Write a Pandas program to split the following dataframe into groups based on school code. Also check the type of GroupBy object.**"
      ],
      "metadata": {
        "id": "aWinttRB9DCM"
      }
    },
    {
      "cell_type": "code",
      "source": [
        "import pandas as pd\n",
        "data=pd.read_csv('/content/drive/MyDrive/Data-sets-qqpp/school_data.csv')\n",
        "grouped = data.groupby('school')\n",
        "print(grouped)\n",
        "print(type(grouped))"
      ],
      "metadata": {
        "id": "aIkUX3Vi01HH",
        "outputId": "49bb5e0f-3478-4b6e-f50c-d5f563a48cf1",
        "colab": {
          "base_uri": "https://localhost:8080/"
        }
      },
      "execution_count": 31,
      "outputs": [
        {
          "output_type": "stream",
          "name": "stdout",
          "text": [
            "<pandas.core.groupby.generic.DataFrameGroupBy object at 0x7f53206db190>\n",
            "<class 'pandas.core.groupby.generic.DataFrameGroupBy'>\n"
          ]
        }
      ]
    },
    {
      "cell_type": "code",
      "source": [],
      "metadata": {
        "id": "V4TYXKfL59dT"
      },
      "execution_count": null,
      "outputs": []
    }
  ]
}